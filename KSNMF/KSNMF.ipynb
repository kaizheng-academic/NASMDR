{
 "cells": [
  {
   "cell_type": "code",
   "execution_count": 1,
   "metadata": {},
   "outputs": [],
   "source": [
    "import csv\n",
    "def ReadMyCsv(SaveList, fileName):\n",
    "    csv_reader = csv.reader(open(fileName))\n",
    "    for row in csv_reader:\n",
    "        SaveList.append(row)\n",
    "    return\n",
    "def StorFile(data, fileName):\n",
    "    with open(fileName, \"w\", newline='') as csvfile:\n",
    "        writer = csv.writer(csvfile)\n",
    "        writer.writerows(data)\n",
    "    return"
   ]
  },
  {
   "cell_type": "code",
   "execution_count": 2,
   "metadata": {},
   "outputs": [],
   "source": [
    "miRNA = []\n",
    "ReadMyCsv(miRNA, \"miRNA+seq.csv\")\n",
    "data=[x[1] for x in miRNA]"
   ]
  },
  {
   "cell_type": "markdown",
   "metadata": {},
   "source": [
    "input k↓"
   ]
  },
  {
   "cell_type": "code",
   "execution_count": 3,
   "metadata": {},
   "outputs": [],
   "source": [
    "k=3"
   ]
  },
  {
   "cell_type": "markdown",
   "metadata": {},
   "source": [
    "get kmer↓"
   ]
  },
  {
   "cell_type": "code",
   "execution_count": 4,
   "metadata": {},
   "outputs": [
    {
     "name": "stdout",
     "output_type": "stream",
     "text": [
      "64\n"
     ]
    }
   ],
   "source": [
    "from itertools import product\n",
    "l = ['A','G','C','U']\n",
    "tmp=list(product(l, repeat=k))\n",
    "Kmer=[\"\".join(i) for i in tmp]\n",
    "print(len(Kmer))"
   ]
  },
  {
   "cell_type": "code",
   "execution_count": 5,
   "metadata": {},
   "outputs": [],
   "source": [
    "import numpy as np\n",
    "from sklearn import preprocessing"
   ]
  },
  {
   "cell_type": "code",
   "execution_count": 6,
   "metadata": {},
   "outputs": [],
   "source": [
    "def embedding(data,dataname_List):    \n",
    "    from sklearn.decomposition import NMF\n",
    "    model = NMF(n_components=40, alpha=0.01, max_iter=10000)\n",
    "    ALL_KmerMatrix=[]\n",
    "    ALL_H=[]\n",
    "    for index,Sequence in enumerate(data):\n",
    "        List=[]\n",
    "        count=4**k\n",
    "        KmerMatrix=np.zeros((count,len(Sequence) - k + 1))\n",
    "        for i in range(len(Sequence) - k + 1):\n",
    "            subsequence = Sequence[i:i + k]\n",
    "            if subsequence in Kmer:\n",
    "                KmerMatrix[Kmer.index(subsequence)][i]=1\n",
    "        W = model.fit_transform(KmerMatrix)\n",
    "        H = model.components_\n",
    "        #List.extend([dataname_List[index][0]])\n",
    "        #List.extend(W.flatten())\n",
    "        ALL_KmerMatrix.append(W.flatten())\n",
    "        ALL_H.append(H)\n",
    "\n",
    "    return ALL_KmerMatrix,KmerMatrix,H\n",
    "\n",
    "    \n",
    "    \n",
    "        \n",
    "        \n",
    "        "
   ]
  },
  {
   "cell_type": "markdown",
   "metadata": {},
   "source": [
    "PCA"
   ]
  },
  {
   "cell_type": "code",
   "execution_count": 7,
   "metadata": {},
   "outputs": [],
   "source": [
    "hairpin = []\n",
    "ReadMyCsv(hairpin, \"hairpin.csv\")\n",
    "data2=[x[1] for x in hairpin]"
   ]
  },
  {
   "cell_type": "code",
   "execution_count": 10,
   "metadata": {},
   "outputs": [
    {
     "name": "stderr",
     "output_type": "stream",
     "text": [
      "C:\\Users\\USER\\Anaconda3\\envs\\miRNAfeature\\lib\\site-packages\\sklearn\\decomposition\\_nmf.py:315: FutureWarning: The 'init' value, when 'init=None' and n_components is less than n_samples and n_features, will be changed from 'nndsvd' to 'nndsvda' in 1.1 (renaming of 0.26).\n",
      "  \"'nndsvda' in 1.1 (renaming of 0.26).\"), FutureWarning)\n"
     ]
    }
   ],
   "source": [
    "#ALL_KmerMatrix_hairpin=embedding(data2,hairpin)\n",
    "ALL_KmerMatrix_miRNA,KmerMatrix,H=embedding(data,miRNA)"
   ]
  },
  {
   "cell_type": "code",
   "execution_count": 9,
   "metadata": {},
   "outputs": [],
   "source": [
    "from sklearn.decomposition import PCA\n",
    "import joblib\n",
    "#pca_hairpin = PCA(n_components=64)\n",
    "#x_train = pca_hairpin.fit_transform(ALL_KmerMatrix_hairpin)\n",
    "pca_hairpin=joblib.load('pca_hairpin.m') \n",
    "ALL_KmerMatrix_miRNA_pca=pca_hairpin.transform(ALL_KmerMatrix_miRNA)"
   ]
  },
  {
   "cell_type": "code",
   "execution_count": 10,
   "metadata": {},
   "outputs": [],
   "source": [
    "StorFile(ALL_KmerMatrix_miRNA_pca, 'miRNA_KSNMF.csv')"
   ]
  }
 ],
 "metadata": {
  "kernelspec": {
   "display_name": "Python 3",
   "language": "python",
   "name": "python3"
  },
  "language_info": {
   "codemirror_mode": {
    "name": "ipython",
    "version": 3
   },
   "file_extension": ".py",
   "mimetype": "text/x-python",
   "name": "python",
   "nbconvert_exporter": "python",
   "pygments_lexer": "ipython3",
   "version": "3.6.12"
  }
 },
 "nbformat": 4,
 "nbformat_minor": 4
}
